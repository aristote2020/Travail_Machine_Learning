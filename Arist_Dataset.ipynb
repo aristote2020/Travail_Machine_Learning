{
 "cells": [
  {
   "cell_type": "code",
   "execution_count": 3,
   "id": "6e2c25ad",
   "metadata": {},
   "outputs": [
    {
     "name": "stdout",
     "output_type": "stream",
     "text": [
      "   Maison  Marque  Nbre_vitesse  Format  Annee_vente  Nbre_vendue  Prix\n",
      "0       1      10             5       2         2015         2000  1050\n",
      "1       2      20             5       1         2016          500   880\n",
      "2       3      30             5       2         2018          350  1000\n",
      "3       4      40             5       1         2020          600   910\n",
      "4       5      50             4       1         2022          250   700\n",
      "5       6      60             4       1         2014          300   800\n",
      "6       7      70             5       1         2013          180   600\n",
      "7       8      80             5       2         2011          210   550\n",
      "   Valeurs actuelles  Valeurs predictes\n",
      "6                600         863.602804\n",
      "2               1000         468.640187\n"
     ]
    }
   ],
   "source": [
    "import pandas as pd\n",
    "import sklearn as sk\n",
    "from sklearn.model_selection import train_test_split\n",
    "from sklearn.linear_model import LinearRegression\n",
    "import joblib\n",
    "\n",
    "#chargement du dataset\n",
    "dataset=pd.read_csv('Dataset_arisk.csv')\n",
    "print(dataset)\n",
    "\n",
    "x=dataset[['Maison','Marque','Nbre_vitesse','Format','Annee_vente','Nbre_vendue']]\n",
    "y=dataset['Prix']\n",
    "\n",
    "x_train,x_test,y_train,y_test=train_test_split(x,y,test_size=0.2,random_state=0)\n",
    "\n",
    "regresseur =LinearRegression()\n",
    "\n",
    "regresseur.fit(x_train,y_train)\n",
    "\n",
    "joblib.dump(regresseur,'model10.pkl')\n",
    "y_pred =regresseur.predict(x_test)\n",
    "\n",
    "df=pd.DataFrame({\n",
    "    \"Valeurs actuelles\":y_test,\n",
    "    \"Valeurs predictes\":y_pred\n",
    "})\n",
    "print(df)\n",
    "\n",
    "\n"
   ]
  },
  {
   "cell_type": "code",
   "execution_count": null,
   "id": "d61dd172",
   "metadata": {},
   "outputs": [],
   "source": []
  },
  {
   "cell_type": "code",
   "execution_count": null,
   "id": "ae7f18e4",
   "metadata": {},
   "outputs": [],
   "source": []
  },
  {
   "cell_type": "code",
   "execution_count": null,
   "id": "7f76f5d2",
   "metadata": {},
   "outputs": [],
   "source": []
  },
  {
   "cell_type": "code",
   "execution_count": null,
   "id": "36253a10",
   "metadata": {},
   "outputs": [],
   "source": []
  },
  {
   "cell_type": "code",
   "execution_count": null,
   "id": "e480f116",
   "metadata": {},
   "outputs": [],
   "source": []
  }
 ],
 "metadata": {
  "kernelspec": {
   "display_name": "Python 3 (ipykernel)",
   "language": "python",
   "name": "python3"
  },
  "language_info": {
   "codemirror_mode": {
    "name": "ipython",
    "version": 3
   },
   "file_extension": ".py",
   "mimetype": "text/x-python",
   "name": "python",
   "nbconvert_exporter": "python",
   "pygments_lexer": "ipython3",
   "version": "3.9.7"
  }
 },
 "nbformat": 4,
 "nbformat_minor": 5
}
